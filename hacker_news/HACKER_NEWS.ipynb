{
 "cells": [
  {
   "cell_type": "code",
   "execution_count": 1,
   "metadata": {
    "collapsed": true
   },
   "outputs": [],
   "source": [
    "import requests\n",
    "#The operator module exports a set of efficient functions corresponding to the intrinsic operators of Python.\n",
    "\n",
    "from operator import itemgetter\n",
    "\n"
   ]
  },
  {
   "cell_type": "code",
   "execution_count": 1,
   "metadata": {
    "collapsed": false
   },
   "outputs": [
    {
     "ename": "NameError",
     "evalue": "name 'requests' is not defined",
     "output_type": "error",
     "traceback": [
      "\u001b[0;31m---------------------------------------------------------------------------\u001b[0m",
      "\u001b[0;31mNameError\u001b[0m                                 Traceback (most recent call last)",
      "\u001b[0;32m<ipython-input-1-2d381f315c76>\u001b[0m in \u001b[0;36m<module>\u001b[0;34m()\u001b[0m\n\u001b[1;32m      1\u001b[0m \u001b[0murl\u001b[0m \u001b[0;34m=\u001b[0m \u001b[0;34m'https://hacker-news.firebaseio.com/v0/topstories.json'\u001b[0m\u001b[0;34m\u001b[0m\u001b[0m\n\u001b[0;32m----> 2\u001b[0;31m \u001b[0mr\u001b[0m \u001b[0;34m=\u001b[0m \u001b[0mrequests\u001b[0m\u001b[0;34m.\u001b[0m\u001b[0mget\u001b[0m\u001b[0;34m(\u001b[0m\u001b[0murl\u001b[0m\u001b[0;34m)\u001b[0m\u001b[0;34m\u001b[0m\u001b[0m\n\u001b[0m\u001b[1;32m      3\u001b[0m \u001b[0;31m# getting the ids of news present  , used for scraping info for each article\u001b[0m\u001b[0;34m\u001b[0m\u001b[0;34m\u001b[0m\u001b[0m\n\u001b[1;32m      4\u001b[0m \u001b[0msubmission_ids\u001b[0m \u001b[0;34m=\u001b[0m \u001b[0mr\u001b[0m\u001b[0;34m.\u001b[0m\u001b[0mjson\u001b[0m\u001b[0;34m(\u001b[0m\u001b[0;34m)\u001b[0m\u001b[0;34m\u001b[0m\u001b[0m\n\u001b[1;32m      5\u001b[0m \u001b[0msubmission_dicts\u001b[0m \u001b[0;34m=\u001b[0m \u001b[0;34m[\u001b[0m\u001b[0;34m]\u001b[0m\u001b[0;34m\u001b[0m\u001b[0m\n",
      "\u001b[0;31mNameError\u001b[0m: name 'requests' is not defined"
     ]
    }
   ],
   "source": [
    "url = 'https://hacker-news.firebaseio.com/v0/topstories.json'\n",
    "r = requests.get(url)\n",
    "# getting the ids of news present  , used for scraping info for each article\n",
    "submission_ids = r.json()\n",
    "submission_dicts = []\n",
    "# now for each news submission ,doing api call , and filtering first 20 only\n",
    "for submission_id in submission_ids[:20]:\n",
    "    url = ('https://hacker-news.firebaseio.com/v0/item/' +str(submission_id) + '.json')\n",
    "    submission_r = requests.get(url)\n",
    "    print(submission_r.status_code)\n",
    "    print(submission_r.status_code)\n",
    "    response_dict = submission_r.json()\n",
    "    #initializing the  dictionary for storing the tuple consisting of title , link and comments\n",
    "    submission_dict = {\n",
    "        'title': response_dict['title'],\n",
    "        'link': 'http://news.ycombinator.com/item?id=' + str(submission_id),\n",
    "        'comments': response_dict.get('descendants', 0)\n",
    "        }\n",
    "    submission_dicts.append(submission_dict)\n",
    "#now sorting the info according to the number of comments ( to get trending topics)   \n",
    "submission_dicts = sorted(submission_dicts,key = itemgetter('comments'),reverse=True)\n",
    "for submission_dict in submission_dicts:\n",
    "    print(\"\\nTitle:\", submission_dict['title'])\n",
    "    print(\"Discussion link:\", submission_dict['link'])\n",
    "    print(\"Comments:\", submission_dict['comments'])"
   ]
  }
 ],
 "metadata": {
  "kernelspec": {
   "display_name": "Python 3",
   "language": "python",
   "name": "python3"
  },
  "language_info": {
   "codemirror_mode": {
    "name": "ipython",
    "version": 3
   },
   "file_extension": ".py",
   "mimetype": "text/x-python",
   "name": "python",
   "nbconvert_exporter": "python",
   "pygments_lexer": "ipython3",
   "version": "3.5.2"
  }
 },
 "nbformat": 4,
 "nbformat_minor": 2
}
